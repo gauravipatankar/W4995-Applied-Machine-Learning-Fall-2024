{
  "nbformat": 4,
  "nbformat_minor": 0,
  "metadata": {
    "colab": {
      "provenance": [],
      "authorship_tag": "ABX9TyMvltBknIgWXTYXe4e66WZi",
      "include_colab_link": true
    },
    "kernelspec": {
      "name": "python3",
      "display_name": "Python 3"
    },
    "language_info": {
      "name": "python"
    }
  },
  "cells": [
    {
      "cell_type": "markdown",
      "metadata": {
        "id": "view-in-github",
        "colab_type": "text"
      },
      "source": [
        "<a href=\"https://colab.research.google.com/github/gauravipatankar/W4995-Applied-Machine-Learning-Fall-2024/blob/main/W4995_AML_kNN.ipynb\" target=\"_parent\"><img src=\"https://colab.research.google.com/assets/colab-badge.svg\" alt=\"Open In Colab\"/></a>"
      ]
    },
    {
      "cell_type": "code",
      "source": [
        "from scipy.stats import multivariate_normal\n",
        "import numpy as np\n",
        "import scipy.stats as stats\n",
        "import matplotlib.pyplot as plt"
      ],
      "metadata": {
        "id": "fFjCrZ0BlT8u"
      },
      "execution_count": 1,
      "outputs": []
    },
    {
      "cell_type": "code",
      "execution_count": 2,
      "metadata": {
        "id": "WOsLhVqPj_z_"
      },
      "outputs": [],
      "source": [
        "def generate_data(size, mean, cov, seed):                                    #Generates data points. Has parameters size(no. of data points), mean, covariance matrix(determines the spread and correlation between different dimensions of the data), and seed.\n",
        "  m = multivariate_normal(mean = mean, cov = cov)                            #Creating a Multivariate Normal Distribution\n",
        "  samples = m.rvs(size = size, random_state = seed)\n",
        "  return samples\n"
      ]
    },
    {
      "cell_type": "code",
      "source": [
        "def plot_data(orange_data, blue_data):                                       # Takes in two datasets - orange_data and blue_data, which are 2D NumPy arrays(x, y).\n",
        "  fig, axes = plt.subplots(figsize = (6, 6))\n",
        "  plt.plot(orange_data[:, 0], orange_data[:, 1], 'o', color = 'orange')      # Selects all rows (:) from the first column(0) and the second column (1) resp.\n",
        "  plt.plot(blue_data[:, 0], blue_data[:, 1], 'o', color = 'blue')            # Marker type ('o') denotes circles.\n",
        "\n",
        "  plt.xlabel(\"Feature 1\")                                                    # Setting X-axis label\n",
        "  plt.ylabel(\"Feature 2\")                                                    # Setting Y-axis label\n",
        "  plt.title(\"Scatter Plot of Orange & Blue Data\")                            # Setting Title\n",
        "  plt.legend([\"Orange\", \"Blue\"])                                             # Setting Legend\n",
        "  plt.grid(True)                                                             # Setting Grid\n",
        "  plt.show()\n"
      ],
      "metadata": {
        "id": "TG_24qMKldBd"
      },
      "execution_count": 9,
      "outputs": []
    },
    {
      "cell_type": "code",
      "source": [
        "#Example Usage\n",
        "orange_data = np.random.randn(50, 2)                                         # Generates random data of 50 rows (data points) and 2 columns.\n",
        "blue_data = np.random.randn(50, 2) + 2                                       # Shifts all points by 2 so their mean is around (2, 2) and not (0, 0) as above.\n",
        "\n",
        "print(\"ORANGE DATA:\\n\\n\", orange_data)\n",
        "print(\"BLUE DATA:\\n\\n\", blue_data)"
      ],
      "metadata": {
        "colab": {
          "base_uri": "https://localhost:8080/"
        },
        "id": "_e7qrsvZLsf2",
        "outputId": "6306152c-6854-4f3c-eba0-20d050bcc44e"
      },
      "execution_count": 15,
      "outputs": [
        {
          "output_type": "stream",
          "name": "stdout",
          "text": [
            "ORANGE DATA:\n",
            "\n",
            " [[ 0.04281743  1.35411654]\n",
            " [ 0.3516711  -2.51752881]\n",
            " [-0.03719746 -0.55240884]\n",
            " [-1.95427308  0.8086148 ]\n",
            " [-0.75420725 -0.96931653]\n",
            " [-1.5649205  -1.68917262]\n",
            " [-1.27094649  0.18377601]\n",
            " [-0.67465936  0.97793097]\n",
            " [ 1.65386114 -0.14697643]\n",
            " [ 0.44717697  0.13299906]\n",
            " [ 0.84673204  0.33856183]\n",
            " [ 1.29385555 -0.90736963]\n",
            " [-2.27625694 -0.12087516]\n",
            " [-0.93096241  0.05442613]\n",
            " [-0.44199178  0.58917503]\n",
            " [ 0.17957273 -1.16998559]\n",
            " [-1.21248431 -0.2930966 ]\n",
            " [ 0.44428204  0.12457805]\n",
            " [-1.12187396 -0.93580819]\n",
            " [-1.66696982  0.29723109]\n",
            " [-0.1584958   0.00347631]\n",
            " [ 0.02086319  0.28424228]\n",
            " [-0.1540153  -0.83621115]\n",
            " [ 0.58732299  0.03237206]\n",
            " [ 0.68496563 -1.96003842]\n",
            " [ 0.09247228  0.36765842]\n",
            " [-0.13071144  1.27734142]\n",
            " [-0.50629099  0.0968173 ]\n",
            " [ 1.1786879  -0.48448483]\n",
            " [ 0.7000573  -0.92809676]\n",
            " [ 0.02197644  0.92783765]\n",
            " [-0.92689734 -1.93802652]\n",
            " [ 0.4490408  -1.10709431]\n",
            " [-0.18404075 -1.11786213]\n",
            " [-0.95115045 -2.08357732]\n",
            " [-2.38424772 -0.00628765]\n",
            " [ 1.0712497   1.73939655]\n",
            " [-1.77427558  0.63959535]\n",
            " [-1.95494598 -0.17661613]\n",
            " [-1.02961099  0.02770292]\n",
            " [ 0.18700212 -1.13996038]\n",
            " [ 1.65322806  1.43340147]\n",
            " [-0.05278523 -1.14596829]\n",
            " [-1.50430328 -0.5596881 ]\n",
            " [ 0.97403894  0.50666969]\n",
            " [-0.61776894 -0.12275568]\n",
            " [ 1.04342843 -0.12642241]\n",
            " [-0.76869046 -0.10832693]\n",
            " [-0.23449888 -1.17205137]\n",
            " [ 0.49872258  0.82750642]]\n",
            "BLUE DATA:\n",
            "\n",
            " [[ 2.18906127  3.82390873]\n",
            " [ 2.53697985  3.4911016 ]\n",
            " [ 0.25677594  2.87758566]\n",
            " [ 2.23606531  2.02982392]\n",
            " [ 0.25189481  4.82764742]\n",
            " [ 1.65012744  2.78914305]\n",
            " [ 0.76359094  1.44595054]\n",
            " [ 2.63106247  2.90304467]\n",
            " [ 3.24083637  3.03039862]\n",
            " [ 2.30964108  1.64260569]\n",
            " [ 3.50989591  1.25666857]\n",
            " [ 2.13190572  0.88981908]\n",
            " [ 1.50033385  2.62933184]\n",
            " [ 1.23916434  1.89863464]\n",
            " [ 2.14125546  1.11347394]\n",
            " [ 0.92919965  1.09038704]\n",
            " [ 2.31114521  0.6495855 ]\n",
            " [ 3.85926612  1.91986547]\n",
            " [ 2.64093413  1.25598767]\n",
            " [ 1.26447774  1.42923011]\n",
            " [ 3.08178478 -0.75972441]\n",
            " [ 1.14450116  3.05537825]\n",
            " [ 2.15803138  2.08421468]\n",
            " [ 1.0868307   2.29292329]\n",
            " [ 1.58709937  0.84813228]\n",
            " [ 2.25715052  0.91843909]\n",
            " [ 3.27734124  2.74373289]\n",
            " [ 2.89929678  2.16536927]\n",
            " [ 1.48180392  1.33007031]\n",
            " [ 0.62220836  1.69729167]\n",
            " [ 3.17583783  3.30755053]\n",
            " [ 2.05830159  3.48856096]\n",
            " [ 1.10142671  2.15538099]\n",
            " [ 2.90484275  3.34842708]\n",
            " [ 2.27081118  2.44585802]\n",
            " [ 2.10555241  3.36806462]\n",
            " [ 2.29242559  1.66694739]\n",
            " [ 2.8205362   1.08007394]\n",
            " [ 2.53458623  1.86235543]\n",
            " [-1.22374113  4.17391669]\n",
            " [ 1.84792232  2.47127773]\n",
            " [ 2.20906755  2.46285723]\n",
            " [ 1.71728048  0.94090482]\n",
            " [ 0.64514532  3.12940385]\n",
            " [ 2.33853473  1.99879514]\n",
            " [ 1.96233365  1.46485351]\n",
            " [ 3.21779451  2.12724533]\n",
            " [ 2.23844127  1.93352817]\n",
            " [ 0.60991651  0.09198735]\n",
            " [ 3.12477933  2.95128264]]\n"
          ]
        }
      ]
    },
    {
      "cell_type": "code",
      "source": [
        "plot_data(orange_data, blue_data)"
      ],
      "metadata": {
        "colab": {
          "base_uri": "https://localhost:8080/",
          "height": 564
        },
        "id": "agmvrtCK6A56",
        "outputId": "7057a0f4-e501-4d85-e026-b39b8990a7ea"
      },
      "execution_count": 16,
      "outputs": [
        {
          "output_type": "display_data",
          "data": {
            "text/plain": [
              "<Figure size 600x600 with 1 Axes>"
            ],
            "image/png": "[encoded data removed]"
          },
          "metadata": {}
        }
      ]
    },
    {
      "cell_type": "code",
      "source": [],
      "metadata": {
        "id": "0-L990xe6Tj7"
      },
      "execution_count": null,
      "outputs": []
    }
  ]
}